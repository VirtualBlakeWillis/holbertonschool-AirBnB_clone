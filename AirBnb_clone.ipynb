{
 "cells": [
  {
   "cell_type": "code",
   "execution_count": 6,
   "metadata": {},
   "outputs": [],
   "source": [
    "#!/usr/bin/python3\n",
    "\"\"\" Base Model module \"\"\"\n",
    "import uuid\n",
    "import datetime\n",
    "\n",
    "class BaseModel():\n",
    "    \"\"\" Base Model Class \"\"\"\n",
    "\n",
    "    def __init__(self):\n",
    "        \"\"\" Initialize Base Model Object \"\"\"\n",
    "\n",
    "        self.id = str(uuid.uuid4())\n",
    "        self.created_at = datetime.now()\n",
    "        self.updated_at = self.created_at\n",
    "        print(self.created_at)"
   ]
  }
 ],
 "metadata": {
  "kernelspec": {
   "display_name": "Python 3.10.6 64-bit",
   "language": "python",
   "name": "python3"
  },
  "language_info": {
   "codemirror_mode": {
    "name": "ipython",
    "version": 3
   },
   "file_extension": ".py",
   "mimetype": "text/x-python",
   "name": "python",
   "nbconvert_exporter": "python",
   "pygments_lexer": "ipython3",
   "version": "3.10.6"
  },
  "orig_nbformat": 4,
  "vscode": {
   "interpreter": {
    "hash": "eaab0263681e19131e4cb06abe9888d3cfa3b9a19a5043a52b7dd698f57e6d9d"
   }
  }
 },
 "nbformat": 4,
 "nbformat_minor": 2
}
